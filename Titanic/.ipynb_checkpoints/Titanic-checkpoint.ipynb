{
 "cells": [
  {
   "cell_type": "markdown",
   "metadata": {},
   "source": [
    "# Titanic: Machine Learning from Disaster"
   ]
  },
  {
   "cell_type": "code",
   "execution_count": 202,
   "metadata": {
    "_cell_guid": "b1076dfc-b9ad-4769-8c92-a6c4dae69d19",
    "_uuid": "8f2839f25d086af736a60e9eeb907d3b93b6e0e5"
   },
   "outputs": [
    {
     "name": "stdout",
     "output_type": "stream",
     "text": [
      "/kaggle/input/titanic/train.csv\n",
      "/kaggle/input/titanic/gender_submission.csv\n",
      "/kaggle/input/titanic/test.csv\n"
     ]
    }
   ],
   "source": [
    "# This Python 3 environment comes with many helpful analytics libraries installed\n",
    "# It is defined by the kaggle/python docker image: https://github.com/kaggle/docker-python\n",
    "# For example, here's several helpful packages to load in \n",
    "\n",
    "import numpy as np # linear algebra\n",
    "import pandas as pd # data processing, CSV file I/O (e.g. pd.read_csv)\n",
    "import matplotlib.pyplot as plt # plotting\n",
    "import seaborn as sns # plotting\n",
    "from keras.layers import Input, Dense, Dropout\n",
    "from keras.models import Model\n",
    "\n",
    "# Input data files are available in the \"../input/\" directory.\n",
    "# For example, running this (by clicking run or pressing Shift+Enter) will list all files under the input directory\n",
    "\n",
    "import os\n",
    "for dirname, _, filenames in os.walk('/kaggle/input'):\n",
    "    for filename in filenames:\n",
    "        print(os.path.join(dirname, filename))\n",
    "\n",
    "# Any results you write to the current directory are saved as output."
   ]
  },
  {
   "cell_type": "code",
   "execution_count": 203,
   "metadata": {
    "_cell_guid": "79c7e3d0-c299-4dcb-8224-4455121ee9b0",
    "_uuid": "d629ff2d2480ee46fbb7e2d37f6b5fab8052498a"
   },
   "outputs": [
    {
     "data": {
      "text/html": [
       "<div>\n",
       "<style scoped>\n",
       "    .dataframe tbody tr th:only-of-type {\n",
       "        vertical-align: middle;\n",
       "    }\n",
       "\n",
       "    .dataframe tbody tr th {\n",
       "        vertical-align: top;\n",
       "    }\n",
       "\n",
       "    .dataframe thead th {\n",
       "        text-align: right;\n",
       "    }\n",
       "</style>\n",
       "<table border=\"1\" class=\"dataframe\">\n",
       "  <thead>\n",
       "    <tr style=\"text-align: right;\">\n",
       "      <th></th>\n",
       "      <th>PassengerId</th>\n",
       "      <th>Survived</th>\n",
       "      <th>Pclass</th>\n",
       "      <th>Name</th>\n",
       "      <th>Sex</th>\n",
       "      <th>Age</th>\n",
       "      <th>SibSp</th>\n",
       "      <th>Parch</th>\n",
       "      <th>Ticket</th>\n",
       "      <th>Fare</th>\n",
       "      <th>Cabin</th>\n",
       "      <th>Embarked</th>\n",
       "    </tr>\n",
       "  </thead>\n",
       "  <tbody>\n",
       "    <tr>\n",
       "      <th>0</th>\n",
       "      <td>1</td>\n",
       "      <td>0</td>\n",
       "      <td>3</td>\n",
       "      <td>Braund, Mr. Owen Harris</td>\n",
       "      <td>male</td>\n",
       "      <td>22.0</td>\n",
       "      <td>1</td>\n",
       "      <td>0</td>\n",
       "      <td>A/5 21171</td>\n",
       "      <td>7.2500</td>\n",
       "      <td>NaN</td>\n",
       "      <td>S</td>\n",
       "    </tr>\n",
       "    <tr>\n",
       "      <th>1</th>\n",
       "      <td>2</td>\n",
       "      <td>1</td>\n",
       "      <td>1</td>\n",
       "      <td>Cumings, Mrs. John Bradley (Florence Briggs Th...</td>\n",
       "      <td>female</td>\n",
       "      <td>38.0</td>\n",
       "      <td>1</td>\n",
       "      <td>0</td>\n",
       "      <td>PC 17599</td>\n",
       "      <td>71.2833</td>\n",
       "      <td>C85</td>\n",
       "      <td>C</td>\n",
       "    </tr>\n",
       "    <tr>\n",
       "      <th>2</th>\n",
       "      <td>3</td>\n",
       "      <td>1</td>\n",
       "      <td>3</td>\n",
       "      <td>Heikkinen, Miss. Laina</td>\n",
       "      <td>female</td>\n",
       "      <td>26.0</td>\n",
       "      <td>0</td>\n",
       "      <td>0</td>\n",
       "      <td>STON/O2. 3101282</td>\n",
       "      <td>7.9250</td>\n",
       "      <td>NaN</td>\n",
       "      <td>S</td>\n",
       "    </tr>\n",
       "    <tr>\n",
       "      <th>3</th>\n",
       "      <td>4</td>\n",
       "      <td>1</td>\n",
       "      <td>1</td>\n",
       "      <td>Futrelle, Mrs. Jacques Heath (Lily May Peel)</td>\n",
       "      <td>female</td>\n",
       "      <td>35.0</td>\n",
       "      <td>1</td>\n",
       "      <td>0</td>\n",
       "      <td>113803</td>\n",
       "      <td>53.1000</td>\n",
       "      <td>C123</td>\n",
       "      <td>S</td>\n",
       "    </tr>\n",
       "    <tr>\n",
       "      <th>4</th>\n",
       "      <td>5</td>\n",
       "      <td>0</td>\n",
       "      <td>3</td>\n",
       "      <td>Allen, Mr. William Henry</td>\n",
       "      <td>male</td>\n",
       "      <td>35.0</td>\n",
       "      <td>0</td>\n",
       "      <td>0</td>\n",
       "      <td>373450</td>\n",
       "      <td>8.0500</td>\n",
       "      <td>NaN</td>\n",
       "      <td>S</td>\n",
       "    </tr>\n",
       "    <tr>\n",
       "      <th>5</th>\n",
       "      <td>6</td>\n",
       "      <td>0</td>\n",
       "      <td>3</td>\n",
       "      <td>Moran, Mr. James</td>\n",
       "      <td>male</td>\n",
       "      <td>NaN</td>\n",
       "      <td>0</td>\n",
       "      <td>0</td>\n",
       "      <td>330877</td>\n",
       "      <td>8.4583</td>\n",
       "      <td>NaN</td>\n",
       "      <td>Q</td>\n",
       "    </tr>\n",
       "    <tr>\n",
       "      <th>6</th>\n",
       "      <td>7</td>\n",
       "      <td>0</td>\n",
       "      <td>1</td>\n",
       "      <td>McCarthy, Mr. Timothy J</td>\n",
       "      <td>male</td>\n",
       "      <td>54.0</td>\n",
       "      <td>0</td>\n",
       "      <td>0</td>\n",
       "      <td>17463</td>\n",
       "      <td>51.8625</td>\n",
       "      <td>E46</td>\n",
       "      <td>S</td>\n",
       "    </tr>\n",
       "    <tr>\n",
       "      <th>7</th>\n",
       "      <td>8</td>\n",
       "      <td>0</td>\n",
       "      <td>3</td>\n",
       "      <td>Palsson, Master. Gosta Leonard</td>\n",
       "      <td>male</td>\n",
       "      <td>2.0</td>\n",
       "      <td>3</td>\n",
       "      <td>1</td>\n",
       "      <td>349909</td>\n",
       "      <td>21.0750</td>\n",
       "      <td>NaN</td>\n",
       "      <td>S</td>\n",
       "    </tr>\n",
       "    <tr>\n",
       "      <th>8</th>\n",
       "      <td>9</td>\n",
       "      <td>1</td>\n",
       "      <td>3</td>\n",
       "      <td>Johnson, Mrs. Oscar W (Elisabeth Vilhelmina Berg)</td>\n",
       "      <td>female</td>\n",
       "      <td>27.0</td>\n",
       "      <td>0</td>\n",
       "      <td>2</td>\n",
       "      <td>347742</td>\n",
       "      <td>11.1333</td>\n",
       "      <td>NaN</td>\n",
       "      <td>S</td>\n",
       "    </tr>\n",
       "    <tr>\n",
       "      <th>9</th>\n",
       "      <td>10</td>\n",
       "      <td>1</td>\n",
       "      <td>2</td>\n",
       "      <td>Nasser, Mrs. Nicholas (Adele Achem)</td>\n",
       "      <td>female</td>\n",
       "      <td>14.0</td>\n",
       "      <td>1</td>\n",
       "      <td>0</td>\n",
       "      <td>237736</td>\n",
       "      <td>30.0708</td>\n",
       "      <td>NaN</td>\n",
       "      <td>C</td>\n",
       "    </tr>\n",
       "    <tr>\n",
       "      <th>10</th>\n",
       "      <td>11</td>\n",
       "      <td>1</td>\n",
       "      <td>3</td>\n",
       "      <td>Sandstrom, Miss. Marguerite Rut</td>\n",
       "      <td>female</td>\n",
       "      <td>4.0</td>\n",
       "      <td>1</td>\n",
       "      <td>1</td>\n",
       "      <td>PP 9549</td>\n",
       "      <td>16.7000</td>\n",
       "      <td>G6</td>\n",
       "      <td>S</td>\n",
       "    </tr>\n",
       "    <tr>\n",
       "      <th>11</th>\n",
       "      <td>12</td>\n",
       "      <td>1</td>\n",
       "      <td>1</td>\n",
       "      <td>Bonnell, Miss. Elizabeth</td>\n",
       "      <td>female</td>\n",
       "      <td>58.0</td>\n",
       "      <td>0</td>\n",
       "      <td>0</td>\n",
       "      <td>113783</td>\n",
       "      <td>26.5500</td>\n",
       "      <td>C103</td>\n",
       "      <td>S</td>\n",
       "    </tr>\n",
       "    <tr>\n",
       "      <th>12</th>\n",
       "      <td>13</td>\n",
       "      <td>0</td>\n",
       "      <td>3</td>\n",
       "      <td>Saundercock, Mr. William Henry</td>\n",
       "      <td>male</td>\n",
       "      <td>20.0</td>\n",
       "      <td>0</td>\n",
       "      <td>0</td>\n",
       "      <td>A/5. 2151</td>\n",
       "      <td>8.0500</td>\n",
       "      <td>NaN</td>\n",
       "      <td>S</td>\n",
       "    </tr>\n",
       "    <tr>\n",
       "      <th>13</th>\n",
       "      <td>14</td>\n",
       "      <td>0</td>\n",
       "      <td>3</td>\n",
       "      <td>Andersson, Mr. Anders Johan</td>\n",
       "      <td>male</td>\n",
       "      <td>39.0</td>\n",
       "      <td>1</td>\n",
       "      <td>5</td>\n",
       "      <td>347082</td>\n",
       "      <td>31.2750</td>\n",
       "      <td>NaN</td>\n",
       "      <td>S</td>\n",
       "    </tr>\n",
       "    <tr>\n",
       "      <th>14</th>\n",
       "      <td>15</td>\n",
       "      <td>0</td>\n",
       "      <td>3</td>\n",
       "      <td>Vestrom, Miss. Hulda Amanda Adolfina</td>\n",
       "      <td>female</td>\n",
       "      <td>14.0</td>\n",
       "      <td>0</td>\n",
       "      <td>0</td>\n",
       "      <td>350406</td>\n",
       "      <td>7.8542</td>\n",
       "      <td>NaN</td>\n",
       "      <td>S</td>\n",
       "    </tr>\n",
       "    <tr>\n",
       "      <th>15</th>\n",
       "      <td>16</td>\n",
       "      <td>1</td>\n",
       "      <td>2</td>\n",
       "      <td>Hewlett, Mrs. (Mary D Kingcome)</td>\n",
       "      <td>female</td>\n",
       "      <td>55.0</td>\n",
       "      <td>0</td>\n",
       "      <td>0</td>\n",
       "      <td>248706</td>\n",
       "      <td>16.0000</td>\n",
       "      <td>NaN</td>\n",
       "      <td>S</td>\n",
       "    </tr>\n",
       "    <tr>\n",
       "      <th>16</th>\n",
       "      <td>17</td>\n",
       "      <td>0</td>\n",
       "      <td>3</td>\n",
       "      <td>Rice, Master. Eugene</td>\n",
       "      <td>male</td>\n",
       "      <td>2.0</td>\n",
       "      <td>4</td>\n",
       "      <td>1</td>\n",
       "      <td>382652</td>\n",
       "      <td>29.1250</td>\n",
       "      <td>NaN</td>\n",
       "      <td>Q</td>\n",
       "    </tr>\n",
       "    <tr>\n",
       "      <th>17</th>\n",
       "      <td>18</td>\n",
       "      <td>1</td>\n",
       "      <td>2</td>\n",
       "      <td>Williams, Mr. Charles Eugene</td>\n",
       "      <td>male</td>\n",
       "      <td>NaN</td>\n",
       "      <td>0</td>\n",
       "      <td>0</td>\n",
       "      <td>244373</td>\n",
       "      <td>13.0000</td>\n",
       "      <td>NaN</td>\n",
       "      <td>S</td>\n",
       "    </tr>\n",
       "    <tr>\n",
       "      <th>18</th>\n",
       "      <td>19</td>\n",
       "      <td>0</td>\n",
       "      <td>3</td>\n",
       "      <td>Vander Planke, Mrs. Julius (Emelia Maria Vande...</td>\n",
       "      <td>female</td>\n",
       "      <td>31.0</td>\n",
       "      <td>1</td>\n",
       "      <td>0</td>\n",
       "      <td>345763</td>\n",
       "      <td>18.0000</td>\n",
       "      <td>NaN</td>\n",
       "      <td>S</td>\n",
       "    </tr>\n",
       "    <tr>\n",
       "      <th>19</th>\n",
       "      <td>20</td>\n",
       "      <td>1</td>\n",
       "      <td>3</td>\n",
       "      <td>Masselmani, Mrs. Fatima</td>\n",
       "      <td>female</td>\n",
       "      <td>NaN</td>\n",
       "      <td>0</td>\n",
       "      <td>0</td>\n",
       "      <td>2649</td>\n",
       "      <td>7.2250</td>\n",
       "      <td>NaN</td>\n",
       "      <td>C</td>\n",
       "    </tr>\n",
       "  </tbody>\n",
       "</table>\n",
       "</div>"
      ],
      "text/plain": [
       "    PassengerId  Survived  Pclass  \\\n",
       "0             1         0       3   \n",
       "1             2         1       1   \n",
       "2             3         1       3   \n",
       "3             4         1       1   \n",
       "4             5         0       3   \n",
       "5             6         0       3   \n",
       "6             7         0       1   \n",
       "7             8         0       3   \n",
       "8             9         1       3   \n",
       "9            10         1       2   \n",
       "10           11         1       3   \n",
       "11           12         1       1   \n",
       "12           13         0       3   \n",
       "13           14         0       3   \n",
       "14           15         0       3   \n",
       "15           16         1       2   \n",
       "16           17         0       3   \n",
       "17           18         1       2   \n",
       "18           19         0       3   \n",
       "19           20         1       3   \n",
       "\n",
       "                                                 Name     Sex   Age  SibSp  \\\n",
       "0                             Braund, Mr. Owen Harris    male  22.0      1   \n",
       "1   Cumings, Mrs. John Bradley (Florence Briggs Th...  female  38.0      1   \n",
       "2                              Heikkinen, Miss. Laina  female  26.0      0   \n",
       "3        Futrelle, Mrs. Jacques Heath (Lily May Peel)  female  35.0      1   \n",
       "4                            Allen, Mr. William Henry    male  35.0      0   \n",
       "5                                    Moran, Mr. James    male   NaN      0   \n",
       "6                             McCarthy, Mr. Timothy J    male  54.0      0   \n",
       "7                      Palsson, Master. Gosta Leonard    male   2.0      3   \n",
       "8   Johnson, Mrs. Oscar W (Elisabeth Vilhelmina Berg)  female  27.0      0   \n",
       "9                 Nasser, Mrs. Nicholas (Adele Achem)  female  14.0      1   \n",
       "10                    Sandstrom, Miss. Marguerite Rut  female   4.0      1   \n",
       "11                           Bonnell, Miss. Elizabeth  female  58.0      0   \n",
       "12                     Saundercock, Mr. William Henry    male  20.0      0   \n",
       "13                        Andersson, Mr. Anders Johan    male  39.0      1   \n",
       "14               Vestrom, Miss. Hulda Amanda Adolfina  female  14.0      0   \n",
       "15                   Hewlett, Mrs. (Mary D Kingcome)   female  55.0      0   \n",
       "16                               Rice, Master. Eugene    male   2.0      4   \n",
       "17                       Williams, Mr. Charles Eugene    male   NaN      0   \n",
       "18  Vander Planke, Mrs. Julius (Emelia Maria Vande...  female  31.0      1   \n",
       "19                            Masselmani, Mrs. Fatima  female   NaN      0   \n",
       "\n",
       "    Parch            Ticket     Fare Cabin Embarked  \n",
       "0       0         A/5 21171   7.2500   NaN        S  \n",
       "1       0          PC 17599  71.2833   C85        C  \n",
       "2       0  STON/O2. 3101282   7.9250   NaN        S  \n",
       "3       0            113803  53.1000  C123        S  \n",
       "4       0            373450   8.0500   NaN        S  \n",
       "5       0            330877   8.4583   NaN        Q  \n",
       "6       0             17463  51.8625   E46        S  \n",
       "7       1            349909  21.0750   NaN        S  \n",
       "8       2            347742  11.1333   NaN        S  \n",
       "9       0            237736  30.0708   NaN        C  \n",
       "10      1           PP 9549  16.7000    G6        S  \n",
       "11      0            113783  26.5500  C103        S  \n",
       "12      0         A/5. 2151   8.0500   NaN        S  \n",
       "13      5            347082  31.2750   NaN        S  \n",
       "14      0            350406   7.8542   NaN        S  \n",
       "15      0            248706  16.0000   NaN        S  \n",
       "16      1            382652  29.1250   NaN        Q  \n",
       "17      0            244373  13.0000   NaN        S  \n",
       "18      0            345763  18.0000   NaN        S  \n",
       "19      0              2649   7.2250   NaN        C  "
      ]
     },
     "execution_count": 203,
     "metadata": {},
     "output_type": "execute_result"
    }
   ],
   "source": [
    "# Read in train dataset\n",
    "train_data = pd.read_csv(\"/kaggle/input/titanic/train.csv\")\n",
    "train_data.head(20)"
   ]
  },
  {
   "cell_type": "code",
   "execution_count": 204,
   "metadata": {},
   "outputs": [],
   "source": [
    "# Read in test dataset\n",
    "test_data = pd.read_csv(\"/kaggle/input/titanic/test.csv\")"
   ]
  },
  {
   "cell_type": "code",
   "execution_count": 205,
   "metadata": {},
   "outputs": [
    {
     "name": "stdout",
     "output_type": "stream",
     "text": [
      "<class 'pandas.core.frame.DataFrame'>\n",
      "RangeIndex: 891 entries, 0 to 890\n",
      "Data columns (total 12 columns):\n",
      "PassengerId    891 non-null int64\n",
      "Survived       891 non-null int64\n",
      "Pclass         891 non-null int64\n",
      "Name           891 non-null object\n",
      "Sex            891 non-null object\n",
      "Age            714 non-null float64\n",
      "SibSp          891 non-null int64\n",
      "Parch          891 non-null int64\n",
      "Ticket         891 non-null object\n",
      "Fare           891 non-null float64\n",
      "Cabin          204 non-null object\n",
      "Embarked       889 non-null object\n",
      "dtypes: float64(2), int64(5), object(5)\n",
      "memory usage: 83.7+ KB\n",
      "<class 'pandas.core.frame.DataFrame'>\n",
      "RangeIndex: 418 entries, 0 to 417\n",
      "Data columns (total 11 columns):\n",
      "PassengerId    418 non-null int64\n",
      "Pclass         418 non-null int64\n",
      "Name           418 non-null object\n",
      "Sex            418 non-null object\n",
      "Age            332 non-null float64\n",
      "SibSp          418 non-null int64\n",
      "Parch          418 non-null int64\n",
      "Ticket         418 non-null object\n",
      "Fare           417 non-null float64\n",
      "Cabin          91 non-null object\n",
      "Embarked       418 non-null object\n",
      "dtypes: float64(2), int64(4), object(5)\n",
      "memory usage: 36.0+ KB\n"
     ]
    }
   ],
   "source": [
    "# Explore train dataset\n",
    "train_data.info()\n",
    "test_data.info()"
   ]
  },
  {
   "cell_type": "code",
   "execution_count": 206,
   "metadata": {},
   "outputs": [
    {
     "name": "stdout",
     "output_type": "stream",
     "text": [
      "women survival rate = 0.742038\n",
      "men survival rate = 0.188908\n"
     ]
    }
   ],
   "source": [
    "# Gender\n",
    "women = train_data.loc[train_data.Sex == 'female']['Survived']\n",
    "men = train_data.loc[train_data.Sex == 'male']['Survived']\n",
    "rate_women = sum(women) / len(women)\n",
    "rate_men = sum(men) / len(men)\n",
    "print('women survival rate = %f' %rate_women)\n",
    "print('men survival rate = %f' %rate_men)"
   ]
  },
  {
   "cell_type": "code",
   "execution_count": 207,
   "metadata": {},
   "outputs": [
    {
     "data": {
      "text/plain": [
       "<seaborn.axisgrid.FacetGrid at 0x7f899880b470>"
      ]
     },
     "execution_count": 207,
     "metadata": {},
     "output_type": "execute_result"
    },
    {
     "data": {
      "image/png": "[encoded data removed]",
      "text/plain": [
       "<Figure size 915.875x216 with 1 Axes>"
      ]
     },
     "metadata": {
      "needs_background": "light"
     },
     "output_type": "display_data"
    }
   ],
   "source": [
    "# Age\n",
    "pt = sns.FacetGrid(train_data, hue='Survived', aspect=4)\n",
    "pt.map(sns.kdeplot, 'Age', shade=True)\n",
    "pt.set(xlim=(0 , train_data['Age'].max()))\n",
    "pt.add_legend()"
   ]
  },
  {
   "cell_type": "code",
   "execution_count": 208,
   "metadata": {},
   "outputs": [
    {
     "data": {
      "text/plain": [
       "<seaborn.axisgrid.FacetGrid at 0x7f8999173898>"
      ]
     },
     "execution_count": 208,
     "metadata": {},
     "output_type": "execute_result"
    },
    {
     "data": {
      "image/png": "[encoded data removed]",
      "text/plain": [
       "<Figure size 915.875x216 with 1 Axes>"
      ]
     },
     "metadata": {
      "needs_background": "light"
     },
     "output_type": "display_data"
    }
   ],
   "source": [
    "# Fare\n",
    "pt = sns.FacetGrid(train_data, hue='Survived', aspect=4)\n",
    "pt.map(sns.kdeplot, 'Fare', shade=True)\n",
    "pt.set(xlim=(0 , train_data['Fare'].max()))\n",
    "pt.add_legend()"
   ]
  },
  {
   "cell_type": "code",
   "execution_count": 209,
   "metadata": {},
   "outputs": [
    {
     "data": {
      "text/plain": [
       "<matplotlib.axes._subplots.AxesSubplot at 0x7f897fdc4b38>"
      ]
     },
     "execution_count": 209,
     "metadata": {},
     "output_type": "execute_result"
    },
    {
     "data": {
      "image/png": "[encoded data removed]",
      "text/plain": [
       "<Figure size 432x288 with 1 Axes>"
      ]
     },
     "metadata": {
      "needs_background": "light"
     },
     "output_type": "display_data"
    }
   ],
   "source": [
    "# Pclass\n",
    "sns.barplot(x='Pclass', y='Survived', data=train_data)"
   ]
  },
  {
   "cell_type": "code",
   "execution_count": 210,
   "metadata": {},
   "outputs": [
    {
     "data": {
      "text/plain": [
       "<matplotlib.axes._subplots.AxesSubplot at 0x7f897fda0390>"
      ]
     },
     "execution_count": 210,
     "metadata": {},
     "output_type": "execute_result"
    },
    {
     "data": {
      "image/png": "[encoded data removed]",
      "text/plain": [
       "<Figure size 432x288 with 1 Axes>"
      ]
     },
     "metadata": {
      "needs_background": "light"
     },
     "output_type": "display_data"
    }
   ],
   "source": [
    "# Embarked\n",
    "sns.barplot(x='Embarked', y='Survived', data=train_data)"
   ]
  },
  {
   "cell_type": "code",
   "execution_count": 211,
   "metadata": {},
   "outputs": [
    {
     "data": {
      "text/plain": [
       "<matplotlib.axes._subplots.AxesSubplot at 0x7f897fd52cf8>"
      ]
     },
     "execution_count": 211,
     "metadata": {},
     "output_type": "execute_result"
    },
    {
     "data": {
      "image/png": "[encoded data removed]",
      "text/plain": [
       "<Figure size 432x288 with 1 Axes>"
      ]
     },
     "metadata": {
      "needs_background": "light"
     },
     "output_type": "display_data"
    }
   ],
   "source": [
    "# Sibling/Spouce count\n",
    "sns.barplot(x='SibSp', y='Survived', data=train_data)"
   ]
  },
  {
   "cell_type": "code",
   "execution_count": 212,
   "metadata": {},
   "outputs": [
    {
     "data": {
      "text/plain": [
       "<matplotlib.axes._subplots.AxesSubplot at 0x7f897fcf4518>"
      ]
     },
     "execution_count": 212,
     "metadata": {},
     "output_type": "execute_result"
    },
    {
     "data": {
      "image/png": "[encoded data removed]",
      "text/plain": [
       "<Figure size 432x288 with 1 Axes>"
      ]
     },
     "metadata": {
      "needs_background": "light"
     },
     "output_type": "display_data"
    }
   ],
   "source": [
    "# Parent/Child count\n",
    "sns.barplot(x='Parch', y='Survived', data=train_data)"
   ]
  },
  {
   "cell_type": "code",
   "execution_count": 213,
   "metadata": {},
   "outputs": [
    {
     "data": {
      "text/plain": [
       "<matplotlib.axes._subplots.AxesSubplot at 0x7f897fc64908>"
      ]
     },
     "execution_count": 213,
     "metadata": {},
     "output_type": "execute_result"
    },
    {
     "data": {
      "image/png": "[encoded data removed]",
      "text/plain": [
       "<Figure size 432x288 with 1 Axes>"
      ]
     },
     "metadata": {
      "needs_background": "light"
     },
     "output_type": "display_data"
    }
   ],
   "source": [
    "# Family aboard\n",
    "train_data['FamilyAboard'] = train_data['SibSp'] + train_data['Parch']\n",
    "sns.barplot(x='FamilyAboard', y='Survived', data=train_data)"
   ]
  },
  {
   "cell_type": "code",
   "execution_count": 214,
   "metadata": {},
   "outputs": [],
   "source": [
    "'''\n",
    "Processes data\n",
    "data is a Pandas DataFrame\n",
    "'''\n",
    "def processData(data):\n",
    "    X = data[['Pclass', 'Sex', 'Age', 'SibSp', 'Parch', 'Fare', 'Embarked']]\n",
    "    Y = data['Survived'].values\n",
    "    # Enumerate labeled data\n",
    "    X['Sex'].replace('female', 0, inplace=True)\n",
    "    X['Sex'].replace('male', 1, inplace=True)\n",
    "    X['Embarked'].replace('S', 0, inplace=True)\n",
    "    X['Embarked'].replace('C', 1, inplace=True)\n",
    "    X['Embarked'].replace('Q', 2, inplace=True)\n",
    "    # Fill missing data\n",
    "    X['Embarked'].fillna(3, inplace=True) # create new category\n",
    "    X['MissingAge'] = X.Age.isnull().astype(int) # create new feature\n",
    "    X['Age'].fillna(0, inplace=True)\n",
    "    X['Fare'].fillna(X['Fare'].mode, inplace=True) # use mode\n",
    "    # Normalize data\n",
    "    X = (X - X.mean()) / X.std()\n",
    "    return X, Y"
   ]
  },
  {
   "cell_type": "code",
   "execution_count": 215,
   "metadata": {},
   "outputs": [],
   "source": [
    "'''\n",
    "Split training data into training and development datasets\n",
    "data is initial Pandas DataFrame\n",
    "fractionDev is fraction of data to be in development dataset\n",
    "returns training data and development data DataFrames\n",
    "'''\n",
    "def splitTrainData(data, fractionDev):\n",
    "    mask = np.random.rand(len(data)) < fractionDev\n",
    "    train_data = data[~mask]\n",
    "    dev_data = data[mask]\n",
    "    return train_data, dev_data"
   ]
  },
  {
   "cell_type": "code",
   "execution_count": 216,
   "metadata": {},
   "outputs": [],
   "source": [
    "def model(inputShape):\n",
    "    X_input = Input(inputShape)\n",
    "    X = Dense(10, activation='relu')(X_input)\n",
    "    X = Dense(1, activation='sigmoid')(X)\n",
    "    \n",
    "    model = Model(inputs=X_input, outputs=X)\n",
    "    return model"
   ]
  },
  {
   "cell_type": "code",
   "execution_count": 217,
   "metadata": {},
   "outputs": [
    {
     "name": "stderr",
     "output_type": "stream",
     "text": [
      "/opt/conda/lib/python3.6/site-packages/ipykernel_launcher.py:16: SettingWithCopyWarning: \n",
      "A value is trying to be set on a copy of a slice from a DataFrame.\n",
      "Try using .loc[row_indexer,col_indexer] = value instead\n",
      "\n",
      "See the caveats in the documentation: http://pandas.pydata.org/pandas-docs/stable/user_guide/indexing.html#returning-a-view-versus-a-copy\n",
      "  app.launch_new_instance()\n"
     ]
    }
   ],
   "source": [
    "# Split and process training data, build model\n",
    "train_data, dev_data = splitTrainData(train_data, .1)\n",
    "X_train, Y_train = processData(train_data)\n",
    "X_dev, Y_dev = processData(dev_data)\n",
    "nn = model(inputShape=(X_train.shape[1],))"
   ]
  },
  {
   "cell_type": "code",
   "execution_count": 218,
   "metadata": {},
   "outputs": [
    {
     "name": "stdout",
     "output_type": "stream",
     "text": [
      "Epoch 1/100\n",
      "800/800 [==============================] - 0s 241us/step - loss: 0.6677 - accuracy: 0.5950\n",
      "Epoch 2/100\n",
      "800/800 [==============================] - 0s 64us/step - loss: 0.6507 - accuracy: 0.6012\n",
      "Epoch 3/100\n",
      "800/800 [==============================] - 0s 63us/step - loss: 0.6334 - accuracy: 0.6000\n",
      "Epoch 4/100\n",
      "800/800 [==============================] - 0s 70us/step - loss: 0.6163 - accuracy: 0.5975\n",
      "Epoch 5/100\n",
      "800/800 [==============================] - 0s 68us/step - loss: 0.5991 - accuracy: 0.5975\n",
      "Epoch 6/100\n",
      "800/800 [==============================] - 0s 67us/step - loss: 0.5828 - accuracy: 0.6000\n",
      "Epoch 7/100\n",
      "800/800 [==============================] - 0s 66us/step - loss: 0.5693 - accuracy: 0.6012\n",
      "Epoch 8/100\n",
      "800/800 [==============================] - 0s 67us/step - loss: 0.5577 - accuracy: 0.6050\n",
      "Epoch 9/100\n",
      "800/800 [==============================] - 0s 72us/step - loss: 0.5489 - accuracy: 0.6762\n",
      "Epoch 10/100\n",
      "800/800 [==============================] - 0s 67us/step - loss: 0.5411 - accuracy: 0.7500\n",
      "Epoch 11/100\n",
      "800/800 [==============================] - 0s 71us/step - loss: 0.5353 - accuracy: 0.7613\n",
      "Epoch 12/100\n",
      "800/800 [==============================] - 0s 67us/step - loss: 0.5295 - accuracy: 0.7862\n",
      "Epoch 13/100\n",
      "800/800 [==============================] - 0s 63us/step - loss: 0.5250 - accuracy: 0.7825\n",
      "Epoch 14/100\n",
      "800/800 [==============================] - 0s 76us/step - loss: 0.5205 - accuracy: 0.7987\n",
      "Epoch 15/100\n",
      "800/800 [==============================] - 0s 61us/step - loss: 0.5164 - accuracy: 0.8050\n",
      "Epoch 16/100\n",
      "800/800 [==============================] - 0s 62us/step - loss: 0.5127 - accuracy: 0.8062\n",
      "Epoch 17/100\n",
      "800/800 [==============================] - 0s 66us/step - loss: 0.5092 - accuracy: 0.8075\n",
      "Epoch 18/100\n",
      "800/800 [==============================] - 0s 67us/step - loss: 0.5059 - accuracy: 0.8112\n",
      "Epoch 19/100\n",
      "800/800 [==============================] - 0s 63us/step - loss: 0.5026 - accuracy: 0.8125\n",
      "Epoch 20/100\n",
      "800/800 [==============================] - 0s 64us/step - loss: 0.4995 - accuracy: 0.8138\n",
      "Epoch 21/100\n",
      "800/800 [==============================] - 0s 66us/step - loss: 0.4965 - accuracy: 0.8138\n",
      "Epoch 22/100\n",
      "800/800 [==============================] - 0s 72us/step - loss: 0.4934 - accuracy: 0.8138\n",
      "Epoch 23/100\n",
      "800/800 [==============================] - 0s 66us/step - loss: 0.4905 - accuracy: 0.8138\n",
      "Epoch 24/100\n",
      "800/800 [==============================] - 0s 65us/step - loss: 0.4873 - accuracy: 0.8188\n",
      "Epoch 25/100\n",
      "800/800 [==============================] - 0s 64us/step - loss: 0.4841 - accuracy: 0.8200\n",
      "Epoch 26/100\n",
      "800/800 [==============================] - 0s 64us/step - loss: 0.4807 - accuracy: 0.8250\n",
      "Epoch 27/100\n",
      "800/800 [==============================] - 0s 65us/step - loss: 0.4777 - accuracy: 0.8275\n",
      "Epoch 28/100\n",
      "800/800 [==============================] - 0s 67us/step - loss: 0.4746 - accuracy: 0.8238\n",
      "Epoch 29/100\n",
      "800/800 [==============================] - 0s 66us/step - loss: 0.4717 - accuracy: 0.8275\n",
      "Epoch 30/100\n",
      "800/800 [==============================] - 0s 62us/step - loss: 0.4689 - accuracy: 0.8263\n",
      "Epoch 31/100\n",
      "800/800 [==============================] - 0s 65us/step - loss: 0.4665 - accuracy: 0.8238\n",
      "Epoch 32/100\n",
      "800/800 [==============================] - 0s 78us/step - loss: 0.4644 - accuracy: 0.8238\n",
      "Epoch 33/100\n",
      "800/800 [==============================] - 0s 74us/step - loss: 0.4623 - accuracy: 0.8225\n",
      "Epoch 34/100\n",
      "800/800 [==============================] - 0s 68us/step - loss: 0.4606 - accuracy: 0.8238\n",
      "Epoch 35/100\n",
      "800/800 [==============================] - 0s 63us/step - loss: 0.4589 - accuracy: 0.8225\n",
      "Epoch 36/100\n",
      "800/800 [==============================] - 0s 64us/step - loss: 0.4576 - accuracy: 0.8238\n",
      "Epoch 37/100\n",
      "800/800 [==============================] - 0s 66us/step - loss: 0.4559 - accuracy: 0.8238\n",
      "Epoch 38/100\n",
      "800/800 [==============================] - 0s 67us/step - loss: 0.4546 - accuracy: 0.8225\n",
      "Epoch 39/100\n",
      "800/800 [==============================] - 0s 67us/step - loss: 0.4532 - accuracy: 0.8225\n",
      "Epoch 40/100\n",
      "800/800 [==============================] - 0s 73us/step - loss: 0.4519 - accuracy: 0.8238\n",
      "Epoch 41/100\n",
      "800/800 [==============================] - 0s 68us/step - loss: 0.4505 - accuracy: 0.8225\n",
      "Epoch 42/100\n",
      "800/800 [==============================] - 0s 66us/step - loss: 0.4500 - accuracy: 0.8250\n",
      "Epoch 43/100\n",
      "800/800 [==============================] - 0s 67us/step - loss: 0.4481 - accuracy: 0.8200\n",
      "Epoch 44/100\n",
      "800/800 [==============================] - 0s 66us/step - loss: 0.4466 - accuracy: 0.8238\n",
      "Epoch 45/100\n",
      "800/800 [==============================] - 0s 68us/step - loss: 0.4456 - accuracy: 0.8213\n",
      "Epoch 46/100\n",
      "800/800 [==============================] - 0s 66us/step - loss: 0.4448 - accuracy: 0.8225\n",
      "Epoch 47/100\n",
      "800/800 [==============================] - 0s 59us/step - loss: 0.4436 - accuracy: 0.8225\n",
      "Epoch 48/100\n",
      "800/800 [==============================] - 0s 60us/step - loss: 0.4422 - accuracy: 0.8263\n",
      "Epoch 49/100\n",
      "800/800 [==============================] - 0s 61us/step - loss: 0.4418 - accuracy: 0.8275\n",
      "Epoch 50/100\n",
      "800/800 [==============================] - 0s 60us/step - loss: 0.4407 - accuracy: 0.8250\n",
      "Epoch 51/100\n",
      "800/800 [==============================] - 0s 62us/step - loss: 0.4395 - accuracy: 0.8275\n",
      "Epoch 52/100\n",
      "800/800 [==============================] - 0s 60us/step - loss: 0.4391 - accuracy: 0.8275\n",
      "Epoch 53/100\n",
      "800/800 [==============================] - 0s 60us/step - loss: 0.4383 - accuracy: 0.8288\n",
      "Epoch 54/100\n",
      "800/800 [==============================] - 0s 59us/step - loss: 0.4374 - accuracy: 0.8288\n",
      "Epoch 55/100\n",
      "800/800 [==============================] - 0s 60us/step - loss: 0.4358 - accuracy: 0.8275\n",
      "Epoch 56/100\n",
      "800/800 [==============================] - 0s 59us/step - loss: 0.4353 - accuracy: 0.8300\n",
      "Epoch 57/100\n",
      "800/800 [==============================] - 0s 58us/step - loss: 0.4348 - accuracy: 0.8313\n",
      "Epoch 58/100\n",
      "800/800 [==============================] - 0s 57us/step - loss: 0.4337 - accuracy: 0.8275\n",
      "Epoch 59/100\n",
      "800/800 [==============================] - 0s 63us/step - loss: 0.4326 - accuracy: 0.8288\n",
      "Epoch 60/100\n",
      "800/800 [==============================] - 0s 59us/step - loss: 0.4318 - accuracy: 0.8288\n",
      "Epoch 61/100\n",
      "800/800 [==============================] - 0s 60us/step - loss: 0.4304 - accuracy: 0.8300\n",
      "Epoch 62/100\n",
      "800/800 [==============================] - 0s 57us/step - loss: 0.4298 - accuracy: 0.8288\n",
      "Epoch 63/100\n",
      "800/800 [==============================] - 0s 56us/step - loss: 0.4281 - accuracy: 0.8275\n",
      "Epoch 64/100\n",
      "800/800 [==============================] - 0s 61us/step - loss: 0.4263 - accuracy: 0.8225\n",
      "Epoch 65/100\n",
      "800/800 [==============================] - 0s 56us/step - loss: 0.4257 - accuracy: 0.8275\n",
      "Epoch 66/100\n",
      "800/800 [==============================] - 0s 59us/step - loss: 0.4246 - accuracy: 0.8275\n",
      "Epoch 67/100\n",
      "800/800 [==============================] - 0s 59us/step - loss: 0.4223 - accuracy: 0.8263\n",
      "Epoch 68/100\n",
      "800/800 [==============================] - 0s 55us/step - loss: 0.4206 - accuracy: 0.8275\n",
      "Epoch 69/100\n",
      "800/800 [==============================] - 0s 59us/step - loss: 0.4194 - accuracy: 0.8275\n",
      "Epoch 70/100\n",
      "800/800 [==============================] - 0s 58us/step - loss: 0.4170 - accuracy: 0.8288\n",
      "Epoch 71/100\n",
      "800/800 [==============================] - 0s 59us/step - loss: 0.4151 - accuracy: 0.8300\n",
      "Epoch 72/100\n",
      "800/800 [==============================] - 0s 63us/step - loss: 0.4132 - accuracy: 0.8300\n",
      "Epoch 73/100\n",
      "800/800 [==============================] - 0s 57us/step - loss: 0.4110 - accuracy: 0.8300\n",
      "Epoch 74/100\n",
      "800/800 [==============================] - 0s 59us/step - loss: 0.4092 - accuracy: 0.8288\n",
      "Epoch 75/100\n",
      "800/800 [==============================] - 0s 57us/step - loss: 0.4081 - accuracy: 0.8300\n",
      "Epoch 76/100\n",
      "800/800 [==============================] - 0s 57us/step - loss: 0.4062 - accuracy: 0.8288\n",
      "Epoch 77/100\n",
      "800/800 [==============================] - 0s 57us/step - loss: 0.4043 - accuracy: 0.8275\n",
      "Epoch 78/100\n",
      "800/800 [==============================] - 0s 58us/step - loss: 0.4021 - accuracy: 0.8288\n",
      "Epoch 79/100\n",
      "800/800 [==============================] - 0s 59us/step - loss: 0.4000 - accuracy: 0.8288\n",
      "Epoch 80/100\n",
      "800/800 [==============================] - 0s 63us/step - loss: 0.3980 - accuracy: 0.8275\n",
      "Epoch 81/100\n",
      "800/800 [==============================] - 0s 60us/step - loss: 0.3965 - accuracy: 0.8288\n",
      "Epoch 82/100\n",
      "800/800 [==============================] - 0s 60us/step - loss: 0.3944 - accuracy: 0.8300\n",
      "Epoch 83/100\n",
      "800/800 [==============================] - 0s 58us/step - loss: 0.3930 - accuracy: 0.8300\n",
      "Epoch 84/100\n",
      "800/800 [==============================] - 0s 60us/step - loss: 0.3917 - accuracy: 0.8300\n",
      "Epoch 85/100\n",
      "800/800 [==============================] - 0s 62us/step - loss: 0.3900 - accuracy: 0.8313\n",
      "Epoch 86/100\n",
      "800/800 [==============================] - 0s 60us/step - loss: 0.3887 - accuracy: 0.8338\n",
      "Epoch 87/100\n",
      "800/800 [==============================] - 0s 60us/step - loss: 0.3873 - accuracy: 0.8325\n",
      "Epoch 88/100\n",
      "800/800 [==============================] - 0s 58us/step - loss: 0.3870 - accuracy: 0.8325\n",
      "Epoch 89/100\n",
      "800/800 [==============================] - 0s 60us/step - loss: 0.3858 - accuracy: 0.8363\n",
      "Epoch 90/100\n",
      "800/800 [==============================] - 0s 61us/step - loss: 0.3847 - accuracy: 0.8388\n",
      "Epoch 91/100\n",
      "800/800 [==============================] - 0s 57us/step - loss: 0.3830 - accuracy: 0.8388\n",
      "Epoch 92/100\n",
      "800/800 [==============================] - 0s 58us/step - loss: 0.3826 - accuracy: 0.8375\n",
      "Epoch 93/100\n",
      "800/800 [==============================] - 0s 62us/step - loss: 0.3811 - accuracy: 0.8388\n",
      "Epoch 94/100\n",
      "800/800 [==============================] - 0s 62us/step - loss: 0.3804 - accuracy: 0.8363\n",
      "Epoch 95/100\n",
      "800/800 [==============================] - 0s 58us/step - loss: 0.3792 - accuracy: 0.8400\n",
      "Epoch 96/100\n",
      "800/800 [==============================] - 0s 57us/step - loss: 0.3792 - accuracy: 0.8462\n",
      "Epoch 97/100\n",
      "800/800 [==============================] - 0s 62us/step - loss: 0.3781 - accuracy: 0.8425\n",
      "Epoch 98/100\n",
      "800/800 [==============================] - 0s 59us/step - loss: 0.3780 - accuracy: 0.8400\n",
      "Epoch 99/100\n",
      "800/800 [==============================] - 0s 59us/step - loss: 0.3767 - accuracy: 0.8425\n",
      "Epoch 100/100\n",
      "800/800 [==============================] - 0s 64us/step - loss: 0.3767 - accuracy: 0.8400\n"
     ]
    },
    {
     "data": {
      "text/plain": [
       "<keras.callbacks.callbacks.History at 0x7f897fbe8198>"
      ]
     },
     "execution_count": 218,
     "metadata": {},
     "output_type": "execute_result"
    }
   ],
   "source": [
    "# Train model\n",
    "nn.compile(optimizer='adam', loss='binary_crossentropy', metrics=['accuracy'])\n",
    "nn.fit(X_train, Y_train, batch_size=32, epochs=100)"
   ]
  },
  {
   "cell_type": "code",
   "execution_count": 219,
   "metadata": {},
   "outputs": [
    {
     "name": "stdout",
     "output_type": "stream",
     "text": [
      "800/800 [==============================] - 0s 56us/step\n",
      "91/91 [==============================] - 0s 57us/step\n",
      "Train accuracy = 0.842500\n",
      "Dev accuracy = 0.758242\n"
     ]
    }
   ],
   "source": [
    "# Evaluate model\n",
    "_, trainAccuracy = nn.evaluate(X_train, Y_train)\n",
    "_, devAccuracy = nn.evaluate(X_dev, Y_dev)\n",
    "print('Train accuracy = %f' %trainAccuracy)\n",
    "print('Dev accuracy = %f' %devAccuracy)"
   ]
  }
 ],
 "metadata": {
  "kernelspec": {
   "display_name": "Python 3",
   "language": "python",
   "name": "python3"
  },
  "language_info": {
   "codemirror_mode": {
    "name": "ipython",
    "version": 3
   },
   "file_extension": ".py",
   "mimetype": "text/x-python",
   "name": "python",
   "nbconvert_exporter": "python",
   "pygments_lexer": "ipython3",
   "version": "3.5.2"
  }
 },
 "nbformat": 4,
 "nbformat_minor": 1
}
